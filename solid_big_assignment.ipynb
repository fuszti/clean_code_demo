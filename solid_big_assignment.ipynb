{
 "cells": [
  {
   "cell_type": "code",
   "execution_count": null,
   "id": "923822a3",
   "metadata": {},
   "outputs": [],
   "source": [
    "from abc import ABC, abstractmethod\n",
    "from Typing import Callable\n",
    "\n",
    "\n",
    "class Algorithm(ABC):\n",
    "    @abstractmethod\n",
    "    def run(number_of_iterations: int) -> int:\n",
    "        raise NotImplementedError"
   ]
  },
  {
   "cell_type": "code",
   "execution_count": null,
   "id": "fd0c250a",
   "metadata": {},
   "outputs": [],
   "source": [
    "def run_program(algorithm_builder_func: Callable[[], Algorithm], number_of_iterations) -> int:\n",
    "    algorithm = algorithm_builder_func()\n",
    "    result = algorithm.run(number_of_iterations)\n",
    "    return result"
   ]
  },
  {
   "cell_type": "code",
   "execution_count": null,
   "id": "6da20f92",
   "metadata": {},
   "outputs": [],
   "source": [
    "# ADD THE REQUIRED CLASS/INTERFACE/FUNCTION deffinitions"
   ]
  },
  {
   "cell_type": "code",
   "execution_count": null,
   "id": "21693533",
   "metadata": {},
   "outputs": [],
   "source": [
    "# ADD REQUIRED PARAMETERS instead of None\n",
    "result_of_random_algorithm = run_program(None)\n",
    "print(f\"The result of the random algorithm: {result_of_random_algorithm}\")\n",
    "# ADD THE REQUIRED CODE to print the logged numbers"
   ]
  },
  {
   "cell_type": "code",
   "execution_count": null,
   "id": "752d7983",
   "metadata": {},
   "outputs": [],
   "source": [
    "# ADD REQUIRED PARAMETERS instead of None\n",
    "result_of_random_algorithm = run_program(None)\n",
    "print(f\"The result of the random algorithm: {result_of_random_algorithm}\")\n",
    "# ADD THE REQUIRED CODE to plot the logged numbers"
   ]
  },
  {
   "cell_type": "code",
   "execution_count": null,
   "id": "173d0a6d",
   "metadata": {},
   "outputs": [],
   "source": [
    "result_of_increasing_algorithm = run_program(None)\n",
    "print(f\"The result of the random algorithm: {result_of_increasing_algorithm}\")\n",
    "# ADD THE REQUIRED CODE to print the logged numbers"
   ]
  },
  {
   "cell_type": "code",
   "execution_count": null,
   "id": "7a821418",
   "metadata": {},
   "outputs": [],
   "source": [
    "result_of_increasing_algorithm = run_program(None)\n",
    "print(f\"The result of the random algorithm: {result_of_increasing_algorithm}\")\n",
    "# ADD THE REQUIRED CODE to plot the logged numbers"
   ]
  }
 ],
 "metadata": {
  "kernelspec": {
   "display_name": "Python 3",
   "language": "python",
   "name": "python3"
  },
  "language_info": {
   "codemirror_mode": {
    "name": "ipython",
    "version": 3
   },
   "file_extension": ".py",
   "mimetype": "text/x-python",
   "name": "python",
   "nbconvert_exporter": "python",
   "pygments_lexer": "ipython3",
   "version": "3.7.7"
  }
 },
 "nbformat": 4,
 "nbformat_minor": 5
}
