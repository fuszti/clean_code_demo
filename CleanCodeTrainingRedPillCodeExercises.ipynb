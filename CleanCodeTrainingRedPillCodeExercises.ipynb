{
 "cells": [
  {
   "cell_type": "markdown",
   "id": "e1fd3d4f",
   "metadata": {},
   "source": [
    "# Exercise\n"
   ]
  },
  {
   "cell_type": "code",
   "execution_count": null,
   "id": "2d605dcd",
   "metadata": {},
   "outputs": [],
   "source": [
    "from abc import ABC, abstractmethod\n",
    "from typing import List\n",
    "\n",
    "\n",
    "class NumberFinder(ABC):\n",
    "    \"\"\"\"\"\"\n",
    "    @abstractmethod\n",
    "    def find(self, numbers: List[int]):\n",
    "        \"\"\"\n",
    "        :param numbers:\n",
    "        \"\"\"\n",
    "        raise NotImplementedError"
   ]
  },
  {
   "cell_type": "markdown",
   "id": "a0c7ed30",
   "metadata": {},
   "source": [
    "## Exercise 1/a\n",
    "\n",
    "Create the \"IntegerWeights\" explicit interface, from which the WeightsForAllInteger and NegativeWeights should inherit. Write understandable docstring to make clear what interface have to be implemented by the subclasses."
   ]
  },
  {
   "cell_type": "code",
   "execution_count": null,
   "id": "2212ceec",
   "metadata": {},
   "outputs": [],
   "source": []
  },
  {
   "cell_type": "markdown",
   "id": "c705e2ba",
   "metadata": {},
   "source": [
    "## Exercise 1/b \n",
    "\n",
    "Update the code to make the WeightsForAllInteger and NegativeWeights inherit from the IntegerWeights."
   ]
  },
  {
   "cell_type": "code",
   "execution_count": null,
   "id": "95184806",
   "metadata": {},
   "outputs": [],
   "source": [
    "class WeightsForAllInteger:\n",
    "    \"\"\"\"\"\"\n",
    "    def __init__(self, weights: dict, other_key_word: str):\n",
    "        \"\"\"\"\"\"\n",
    "        self.weights = weights\n",
    "        self.other_value = self.weights[other_key_word]\n",
    "    \n",
    "    def get_weight(self, number: int):\n",
    "        \"\"\"\"\"\"\n",
    "        weight = self.weights.get(number, self.other_value)\n",
    "        return weight\n",
    "\n",
    "    \n",
    "class NegativeWeights:\n",
    "    \"\"\"\"\"\"\n",
    "    def __init__(self, weights: WeightsForAllInteger):\n",
    "        self.weights = weights\n",
    "    \n",
    "    def get_weight(self, number: int):\n",
    "        return -self.weights.get_weight(number)\n",
    "\n",
    "    \n",
    "class MaxWeightedFinder(NumberFinder):\n",
    "    \"\"\"\"\"\"\n",
    "    def __init__(self, weights: WeightsForAllInteger):\n",
    "        \"\"\"\n",
    "        :param weights:\n",
    "        \"\"\"\n",
    "        self.weights = weights\n",
    "    \n",
    "    def find(self, numbers: List[int]):\n",
    "        # python max is not used, because I want to demonstrate the helper functions\n",
    "        max_weighted_number = numbers[0]\n",
    "        for number in numbers[1:]:\n",
    "            max_weighted_number = self._get_number_with_bigger_weight(max_weighted_number, number)\n",
    "        return max_weighted_number\n",
    "    \n",
    "    def _get_number_with_bigger_weight(self, number1, number2):\n",
    "        result = number1 if self.weights.get_weight(number1) > self.weights.get_weight(number2) else number2\n",
    "        return result\n"
   ]
  },
  {
   "cell_type": "code",
   "execution_count": null,
   "id": "5f43263c",
   "metadata": {},
   "outputs": [],
   "source": [
    "class Selector:\n",
    "    def __init__(self, most_important_finder: NumberFinder, less_important_finder: NumberFinder):\n",
    "        self.most_important_finder = most_important_finder\n",
    "        self.less_important_finder = less_important_finder\n",
    "    \n",
    "    def get_most_important(self, numbers: List[int]):\n",
    "        return self.most_important_finder.find(numbers)\n",
    "    \n",
    "    def get_less_important(self, numbers: List[int]):\n",
    "        return self.less_important_finder.find(numbers)"
   ]
  },
  {
   "cell_type": "code",
   "execution_count": null,
   "id": "58dddf1d",
   "metadata": {},
   "outputs": [],
   "source": [
    "def build_selector_from_weight_dict(weights, other_key_word):\n",
    "    weights_for_most_important = WeightsForAllInteger(weights, other_key_word)\n",
    "    weights_for_less_important = NegativeWeights(weights_for_most_important)\n",
    "    most_important_finder = MaxWeightedFinder(weights_for_most_important)\n",
    "    less_important_finder = MaxWeightedFinder(weights_for_less_important)\n",
    "    number_selector = Selector(most_important_finder, less_important_finder)\n",
    "    return number_selector\n",
    "\n",
    "\n",
    "def build_selector_from_integer_weights(weights):\n",
    "    weights_for_less_important = NegativeWeights(weights)\n",
    "    most_important_finder = MaxWeightedFinder(weights)\n",
    "    less_important_finder = MaxWeightedFinder(weights_for_less_important)\n",
    "    number_selector = Selector(most_important_finder, less_important_finder)\n",
    "    return number_selector"
   ]
  },
  {
   "cell_type": "markdown",
   "id": "6ab21917",
   "metadata": {},
   "source": [
    "## Exercise 2\n",
    "Create a Selector instance that returns the most/less important number by the numbers' square."
   ]
  },
  {
   "cell_type": "code",
   "execution_count": null,
   "id": "6b3f3e0d",
   "metadata": {},
   "outputs": [],
   "source": [
    "# ADD YOUR CLASS IMPLEMENTATION HERE\n"
   ]
  },
  {
   "cell_type": "code",
   "execution_count": null,
   "id": "2893e53d",
   "metadata": {},
   "outputs": [],
   "source": [
    "numbers = [4, 6, -8, 4, 2, 3, 5, 6]\n",
    "# ADD YOUR CODE HERE and create a working number_selector variable\n",
    "number_selector = None\n",
    "# End of workspace\n",
    "print(number_selector.get_most_important(numbers))  # expected output: -8\n",
    "print(number_selector.get_less_important(numbers))  # expected output: 2"
   ]
  },
  {
   "cell_type": "markdown",
   "id": "c162fea4",
   "metadata": {},
   "source": [
    "## Exercise 3\n",
    "Create a Selector instance that returns the most/less important number by predifened weights' square."
   ]
  },
  {
   "cell_type": "code",
   "execution_count": null,
   "id": "2cb3df3e",
   "metadata": {},
   "outputs": [],
   "source": [
    "# ADD YOUR CLASS IMPLEMENTATION HERE"
   ]
  },
  {
   "cell_type": "code",
   "execution_count": null,
   "id": "9a73e8ed",
   "metadata": {},
   "outputs": [],
   "source": [
    "numbers = [3, 5, 2, 2, 4, 7]\n",
    "weight_dict = {2: 1, 5: -4, \"other\":3}\n",
    "# ADD YOUR CODE HERE and create a working number_selector variable\n",
    "number_selector = None\n",
    "# End of workspace\n",
    "print(number_selector.get_most_important(numbers))  # expected output: 5\n",
    "print(number_selector.get_less_important(numbers))  # expected output: 2"
   ]
  },
  {
   "cell_type": "markdown",
   "id": "a7a99ce8",
   "metadata": {},
   "source": [
    "## Exercise 4\n",
    "Create a Selector instance that returns the most important number based on the predifined weights' square and the less important number based on the numbers's square."
   ]
  },
  {
   "cell_type": "code",
   "execution_count": null,
   "id": "96592b59",
   "metadata": {},
   "outputs": [],
   "source": [
    "numbers = [3, 5, 2, 2, 4, 7]\n",
    "weight_dict = {2: 5, 5: -4, \"other\":3}\n",
    "# ADD YOUR CODE HERE and create a working number_selector variable\n",
    "number_selector = None\n",
    "# End of workspace\n",
    "print(number_selector.get_most_important(numbers))  # expected output: 2\n",
    "print(number_selector.get_less_important(numbers))  # expected output: 2"
   ]
  },
  {
   "cell_type": "markdown",
   "id": "7326058e",
   "metadata": {},
   "source": [
    "## Exercise 5\n",
    "\n",
    "Create a Selector typed variable that returns the third number ordering them by square of predifined weights as less imporant and returns the number, that has the biggest weight as most important."
   ]
  },
  {
   "cell_type": "code",
   "execution_count": null,
   "id": "b59d4f0a",
   "metadata": {},
   "outputs": [],
   "source": [
    "# ADD YOUR CLASS IMPLEMENTATION HERE\n"
   ]
  },
  {
   "cell_type": "code",
   "execution_count": null,
   "id": "6d9f7b72",
   "metadata": {},
   "outputs": [],
   "source": [
    "numbers = [3, 5, 2, 2, 4, 7]\n",
    "weight_dict = {2: 1, 5: -4, \"other\":3}\n",
    "# ADD YOUR CODE HERE and create a working number_selector variable\n",
    "number_selector = None\n",
    "# End of workspace\n",
    "print(number_selector.get_most_important(numbers))  # expected output: 3 or 4 or 7\n",
    "print(number_selector.get_less_important(numbers))  # expected output: 2"
   ]
  },
  {
   "cell_type": "code",
   "execution_count": null,
   "id": "d5af140e",
   "metadata": {},
   "outputs": [],
   "source": []
  }
 ],
 "metadata": {
  "kernelspec": {
   "display_name": "Python 3",
   "language": "python",
   "name": "python3"
  },
  "language_info": {
   "codemirror_mode": {
    "name": "ipython",
    "version": 3
   },
   "file_extension": ".py",
   "mimetype": "text/x-python",
   "name": "python",
   "nbconvert_exporter": "python",
   "pygments_lexer": "ipython3",
   "version": "3.7.7"
  }
 },
 "nbformat": 4,
 "nbformat_minor": 5
}
