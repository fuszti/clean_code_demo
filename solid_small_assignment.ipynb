{
 "cells": [
  {
   "cell_type": "code",
   "execution_count": null,
   "id": "29dcee67",
   "metadata": {},
   "outputs": [],
   "source": [
    "\"\"\"\n",
    "This file is for txt measurement file reading and filtering.\n",
    "\n",
    "@author \"Sluggish Programmer\" <slug.prog@hu.bosch.com>\n",
    "\"\"\"\n",
    "\n",
    "class FileReaderAndProcessor:\n",
    "    def __init__(self, filename):\n",
    "        \"\"\"\n",
    "        This is the constructor.\n",
    "        :param filename: filename of the file. Only works with .txt!!\n",
    "        \"\"\"\n",
    "        with open(filename, \"r\") as file:\n",
    "            rows = file.readlines()\n",
    "        filtered = []\n",
    "        for row in rows:\n",
    "            # We check if row starts with a \"nan\",\n",
    "            # this means that we don't have measurement in that line\n",
    "            if not row.startswith(\"nan\"):\n",
    "                filtered.append(row)\n",
    "        self.filtered_measurements = filtered\n",
    "\n",
    "    def get_filtered_measurements(self):\n",
    "        return self.filtered_measurements"
   ]
  },
  {
   "cell_type": "code",
   "execution_count": null,
   "id": "8607d882",
   "metadata": {},
   "outputs": [],
   "source": [
    "filtered = FileReaderAndProcessor(\"filename.txt\").get_filtered_measurements()"
   ]
  },
  {
   "cell_type": "code",
   "execution_count": null,
   "id": "38afc247",
   "metadata": {},
   "outputs": [],
   "source": []
  }
 ],
 "metadata": {
  "kernelspec": {
   "display_name": "Python 3",
   "language": "python",
   "name": "python3"
  },
  "language_info": {
   "codemirror_mode": {
    "name": "ipython",
    "version": 3
   },
   "file_extension": ".py",
   "mimetype": "text/x-python",
   "name": "python",
   "nbconvert_exporter": "python",
   "pygments_lexer": "ipython3",
   "version": "3.7.7"
  }
 },
 "nbformat": 4,
 "nbformat_minor": 5
}
